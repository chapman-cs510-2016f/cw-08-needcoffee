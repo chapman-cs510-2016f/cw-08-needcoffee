{
 "cells": [
  {
   "cell_type": "markdown",
   "metadata": {},
   "source": [
    "# Julia Benchmark\n",
    "\n",
    "### Afnan Alqahtani and Alexis Ford"
   ]
  },
  {
   "cell_type": "code",
   "execution_count": 1,
   "metadata": {
    "collapsed": false
   },
   "outputs": [],
   "source": [
    "import numpy as np\n",
    "import numba as nb"
   ]
  },
  {
   "cell_type": "markdown",
   "metadata": {},
   "source": [
    "## Decorator commented out"
   ]
  },
  {
   "cell_type": "code",
   "execution_count": 2,
   "metadata": {
    "collapsed": false
   },
   "outputs": [
    {
     "name": "stdout",
     "output_type": "stream",
     "text": [
      "CPU times: user 14.5 s, sys: 520 ms, total: 15 s\n",
      "Wall time: 15.6 s\n"
     ]
    }
   ],
   "source": [
    "import juliaPlane as jp\n",
    "\n",
    "\n",
    "s = jp.JuliaPlane(-2,2,2000,-2,2,2000)\n",
    "%time s.set_f(-1.037 + 0.17j)"
   ]
  },
  {
   "cell_type": "markdown",
   "metadata": {},
   "source": [
    "## With Decorator"
   ]
  },
  {
   "cell_type": "code",
   "execution_count": 2,
   "metadata": {
    "collapsed": false
   },
   "outputs": [
    {
     "name": "stdout",
     "output_type": "stream",
     "text": [
      "CPU times: user 652 ms, sys: 304 ms, total: 956 ms\n",
      "Wall time: 963 ms\n"
     ]
    }
   ],
   "source": [
    "import juliaPlane as jp\n",
    "\n",
    "s = jp.JuliaPlane(-2,2,2000,-2,2,2000)\n",
    "%time s.set_f(-1.037 + 0.17j)"
   ]
  },
  {
   "cell_type": "markdown",
   "metadata": {},
   "source": [
    "The code runs over 16 times faster with the decorator"
   ]
  },
  {
   "cell_type": "code",
   "execution_count": 1,
   "metadata": {
    "collapsed": false
   },
   "outputs": [
    {
     "name": "stdout",
     "output_type": "stream",
     "text": [
      "CPU times: user 2.23 s, sys: 1.49 s, total: 3.72 s\n",
      "Wall time: 3.85 s\n"
     ]
    }
   ],
   "source": [
    "import juliaPlane as jp\n",
    "\n",
    "s = jp.JuliaPlane(-2,2,4000,-2,2,4000)\n",
    "%time s.set_f(-1.037 + 0.17j)"
   ]
  },
  {
   "cell_type": "markdown",
   "metadata": {},
   "source": [
    "We tried several dimensions for our plane. Though it worked initially for 5000 by 5000 (it ran in about 12 seconds, still faster than the smaller plane compiled without the decorator), the test is not successful when repeated. Even doubling each dimension, the code with decorator still runs 5 times faster than the code without the decorator."
   ]
  }
 ],
 "metadata": {
  "kernelspec": {
   "display_name": "Anaconda (Python 3)",
   "language": "python",
   "name": "anaconda3"
  },
  "language_info": {
   "codemirror_mode": {
    "name": "ipython",
    "version": 3
   },
   "file_extension": ".py",
   "mimetype": "text/x-python",
   "name": "python",
   "nbconvert_exporter": "python",
   "pygments_lexer": "ipython3",
   "version": "3.5.2"
  }
 },
 "nbformat": 4,
 "nbformat_minor": 0
}
