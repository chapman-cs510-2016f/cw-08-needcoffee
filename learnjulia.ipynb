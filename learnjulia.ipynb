{
 "cells": [
  {
   "cell_type": "markdown",
   "metadata": {},
   "source": [
    "# Learning Julia\n",
    "## Alexis Ford and Afnan Alqahtani"
   ]
  },
  {
   "cell_type": "markdown",
   "metadata": {},
   "source": [
    "### Basic julia Syntax"
   ]
  },
  {
   "cell_type": "code",
   "execution_count": 1,
   "metadata": {
    "collapsed": false
   },
   "outputs": [
    {
     "name": "stdout",
     "output_type": "stream",
     "text": [
      "1 Hello World! 2 true\n",
      "Goodbye."
     ]
    }
   ],
   "source": [
    "#Comments use the pound sign\n",
    "#= multiple line comments\n",
    "    use '#=' at the beginning and\n",
    "    '=#' at the end\n",
    "=#\n",
    "x = 1 #Assignment uses the equal sign. Variables are not declared before assignment\n",
    "myStr = \"Hello World!\" #Strings use double quotes\n",
    "myChar = '2' #characters use single quotes\n",
    "myBool = true\n",
    "println(\"$x $myStr $myChar $myBool\") #println() includes newline character after output\n",
    "print(\"Goodbye.\")"
   ]
  },
  {
   "cell_type": "markdown",
   "metadata": {},
   "source": [
    "### Basic julia data types\n",
    "#### An introduction to Types in Julia"
   ]
  },
  {
   "cell_type": "markdown",
   "metadata": {},
   "source": [
    "Julia's types follow a tree, whose root is `Any`. Using `subtypes()` and `supertype()`, we built a multi-level list that show some of the type hierarchy, leading to the more commonly used types. Types can be divided into two main categories: abstract and concrete. Abstract types can have subtypes, but cannot be instantiated. Concrete types can be instantiated, but cannot have subtypes; they are in bold in our list."
   ]
  },
  {
   "cell_type": "markdown",
   "metadata": {},
   "source": [
    "- Any\n",
    "    - Number\n",
    "        - Real\n",
    "            - AbstractFloat\n",
    "            - Integer\n",
    "                - **Bool**\n",
    "            - **Irrational**\n",
    "            - **Rational**\n",
    "        - **Complex**\n",
    "    - AbstractString\n",
    "        - **String**\n",
    "    - **Char**\n",
    "    - **Tuple**\n",
    "    - AbstractArray\n",
    "        - DenseArray\n",
    "            - **Array**\n",
    "    - Associative\n",
    "        - **Dict**\n",
    "    - Base.AbstractSet\n",
    "        - **Set**\n",
    "    "
   ]
  },
  {
   "cell_type": "markdown",
   "metadata": {},
   "source": [
    "#### Defining and using Julia Types\n",
    "##### Booleans"
   ]
  },
  {
   "cell_type": "code",
   "execution_count": 2,
   "metadata": {
    "collapsed": false
   },
   "outputs": [
    {
     "name": "stdout",
     "output_type": "stream",
     "text": [
      "true, false, true, true"
     ]
    }
   ],
   "source": [
    "bool1 = 1 != 0\n",
    "bool2 = true\n",
    "print(bool1, \", $(!bool1 && bool2), $(bool1 || bool2), $(bool1 <= bool2)\")"
   ]
  },
  {
   "cell_type": "markdown",
   "metadata": {},
   "source": [
    "##### Floats"
   ]
  },
  {
   "cell_type": "code",
   "execution_count": 3,
   "metadata": {
    "collapsed": false,
    "scrolled": true
   },
   "outputs": [
    {
     "name": "stdout",
     "output_type": "stream",
     "text": [
      "9.909600000000001, -0.42857142857142855, 0.42857142857142855"
     ]
    }
   ],
   "source": [
    "α = 0.05 \n",
    "x = α + 3.14^2 #exponents use ^ instead of **\n",
    "y = -3/7\n",
    "z = 7\\3\n",
    "print(\"$x, $y, $z\") #all are of type Float64, a subtype of AbstractFloat"
   ]
  },
  {
   "cell_type": "markdown",
   "metadata": {},
   "source": [
    "##### Integers"
   ]
  },
  {
   "cell_type": "code",
   "execution_count": 4,
   "metadata": {
    "collapsed": false
   },
   "outputs": [
    {
     "name": "stdout",
     "output_type": "stream",
     "text": [
      "3, 123456, 0, -123453"
     ]
    }
   ],
   "source": [
    "a = 3 \n",
    "b = 123456\n",
    "c = b%a\n",
    "d = a - b\n",
    "print(\"$a, $b, $c, $d\") #All are of type Int64, a subtype of Integer"
   ]
  },
  {
   "cell_type": "markdown",
   "metadata": {},
   "source": [
    "#### Irrationals\n",
    "These are all defined constants in Julia. The non-ASCII characters can be accessed by name (golden for $\\varphi$, for example) or by using $\\LaTeX$ commands.\n",
    "- catalan = 0.9159655941772...\n",
    "- e = eu = eulergamma = γ\n",
    "- golden = φ\n",
    "    - this is the $\\LaTeX$ command \\varphi\n",
    "- pi = π"
   ]
  },
  {
   "cell_type": "code",
   "execution_count": 5,
   "metadata": {
    "collapsed": false
   },
   "outputs": [
    {
     "name": "stdout",
     "output_type": "stream",
     "text": [
      "e has type Irrational{:e},\n",
      "catalan has type Irrational{:catalan},\n",
      "φ = 1.6180339887498... has type Irrational{:φ},\n",
      "π = 3.1415926535897... has type Irrational{:π}"
     ]
    }
   ],
   "source": [
    "print(\"e has type $(typeof(e)),\n",
    "catalan has type $(typeof(catalan)),\n",
    "$(golden) has type $(typeof(golden)),\n",
    "$(pi) has type $(typeof(pi))\") #Also, this would require tripple quotes in Python"
   ]
  },
  {
   "cell_type": "markdown",
   "metadata": {},
   "source": [
    "##### Rational\n",
    "Julia has a rational type that works exactly as a mathematician would expect."
   ]
  },
  {
   "cell_type": "code",
   "execution_count": 6,
   "metadata": {
    "collapsed": false
   },
   "outputs": [
    {
     "name": "stdout",
     "output_type": "stream",
     "text": [
      "1//2, 3//4, 2//1"
     ]
    }
   ],
   "source": [
    "a = 1//2\n",
    "b = 3//4\n",
    "c = 4 * a\n",
    "print(\"$a, $b, $c\") #a, b, and c are all of type Rational"
   ]
  },
  {
   "cell_type": "markdown",
   "metadata": {
    "collapsed": false
   },
   "source": [
    "##### Complex\n",
    "As in Pythin, Julia has complex numbers that do not require the use of additional packages."
   ]
  },
  {
   "cell_type": "code",
   "execution_count": 7,
   "metadata": {
    "collapsed": false,
    "scrolled": true
   },
   "outputs": [
    {
     "name": "stdout",
     "output_type": "stream",
     "text": [
      "-1 - 2im, -4 + 22im, -1.0 + 0.5im"
     ]
    }
   ],
   "source": [
    "z1 = 3 - 4im\n",
    "z2 = 2im - 4\n",
    "print(\"$(z1 + z2), $(z1 * z2), $(z1/z2)\")"
   ]
  },
  {
   "cell_type": "markdown",
   "metadata": {},
   "source": [
    "##### Strings\n",
    "Strings are created with double quotes (single quotes are reserved for characters). Strings can be indexed (starting from 1, though UTF8 string do not index well), interpolated with the $ sign, concatinated (with *), and searched, as well as many other common (and not common) string functions. Also, it is important to remember that strings are immutable."
   ]
  },
  {
   "cell_type": "code",
   "execution_count": 8,
   "metadata": {
    "collapsed": false
   },
   "outputs": [
    {
     "data": {
      "text/plain": [
       "\"lo worl lo worl lo worl lo worl \""
      ]
     },
     "execution_count": 8,
     "metadata": {},
     "output_type": "execute_result"
    }
   ],
   "source": [
    "myStr1 = \"Hello\"\n",
    "myStr2 = \"world!\"\n",
    "myStr = myStr1 * myStr2\n",
    "myStr = replace(myStr, \"w\", \" w\")\n",
    "ind = myStr[4:end-2] #end gets you the element at the last index\n",
    "repeat(\"$(ind) \", 4)"
   ]
  },
  {
   "cell_type": "markdown",
   "metadata": {},
   "source": [
    "##### Characters\n",
    "Characters use single quotes. You can easily go between ASCII character and code."
   ]
  },
  {
   "cell_type": "code",
   "execution_count": 9,
   "metadata": {
    "collapsed": false
   },
   "outputs": [
    {
     "name": "stdout",
     "output_type": "stream",
     "text": [
      "true, 97, c, false"
     ]
    }
   ],
   "source": [
    "myChar1 = 'a'\n",
    "myChar2 = 'c'\n",
    "print(\"$(myChar1 < myChar2), $(Int(myChar1)), $(Char(99)), $('a' == \"a\")\")"
   ]
  },
  {
   "cell_type": "markdown",
   "metadata": {},
   "source": [
    "##### Tuples\n",
    "Like strings, tuples can be indexed, and they are immutable. You can also have multi-dimensional tuples, much like with arrays. Tuples are used frequently in Julia functions, as well with as comma-separated outputs."
   ]
  },
  {
   "cell_type": "code",
   "execution_count": 10,
   "metadata": {
    "collapsed": false,
    "scrolled": true
   },
   "outputs": [
    {
     "name": "stdout",
     "output_type": "stream",
     "text": [
      "2, 7"
     ]
    }
   ],
   "source": [
    "myTup1 = (5,6,7)\n",
    "myTup2 = (((1,2),(3)),(4), myTup1)\n",
    "print(\"$(myTup2[1][1][2]), $(myTup2[end][end])\")"
   ]
  },
  {
   "cell_type": "markdown",
   "metadata": {},
   "source": [
    "##### Arrays\n",
    "Julia arrays are similar to Python lists: they are mutable and can contain multiple types (including arrays). As with all Julia types that allow indexing, array indeces begin at 1. The type of arrrays can be specified, but it is not necessary. One important difference between Julia and Python is how arrasy are stored in memory. Arrays that contain elements of the same, concrete type are stored in contigious memory, since it is known exactly how much memory should be allocated. Arrays of abstract type are not stored in contigious memory, since each element may take up a different ammount of space in memory."
   ]
  },
  {
   "cell_type": "code",
   "execution_count": 11,
   "metadata": {
    "collapsed": false
   },
   "outputs": [
    {
     "name": "stdout",
     "output_type": "stream",
     "text": [
      "myArray is of type Array{Any,1}, and myIntArray is of type Array{Int64,1}."
     ]
    }
   ],
   "source": [
    "myArray = [1.0,pi,'a']\n",
    "myIntArray = Int64[1,2,3]\n",
    "myArray[1] = -1\n",
    "print(\"myArray is of type $(typeof(myArray)), and myIntArray is of type $(typeof(myIntArray)).\")"
   ]
  },
  {
   "cell_type": "markdown",
   "metadata": {},
   "source": [
    "Much of the array and matrix manipulation in Julia reflects MatLab (or R, when working with data frames) syntax. For example, scalar multiplication uses `.*`, and matrix multiplication uses `*`."
   ]
  },
  {
   "cell_type": "code",
   "execution_count": 12,
   "metadata": {
    "collapsed": false,
    "scrolled": true
   },
   "outputs": [
    {
     "name": "stdout",
     "output_type": "stream",
     "text": [
      "[2 4 6; 8 10 12; 14 16 18], [1.0 2.0; 4.0 5.0; 7.0 8.0]"
     ]
    }
   ],
   "source": [
    "myMatrix = [1 2 3; 4 5 6; 7 8 9]\n",
    "otherMatrix = eye(3,2)\n",
    "print(\"$(2.*myMatrix), $(myMatrix*otherMatrix)\")"
   ]
  },
  {
   "cell_type": "markdown",
   "metadata": {},
   "source": [
    "##### Dictionaries\n",
    "Dictionaries are mutable, though when symbols are used for keys, the keys are immutable."
   ]
  },
  {
   "cell_type": "code",
   "execution_count": 13,
   "metadata": {
    "collapsed": false,
    "scrolled": true
   },
   "outputs": [
    {
     "name": "stdout",
     "output_type": "stream",
     "text": [
      "abc, true"
     ]
    }
   ],
   "source": [
    "myDict = Dict(1 => \"a\", 2 => \"b\", 3 => \"c\")\n",
    "strArray = collect(values(myDict))\n",
    "myBool = haskey(myDict, :2)\n",
    "print(\"$(strArray[3]*strArray[1]*strArray[2]), $(myBool)\")"
   ]
  },
  {
   "cell_type": "markdown",
   "metadata": {},
   "source": [
    "##### Sets\n",
    "One more interesting type is the Set type, which is a collection of unordered, non-repeated elements, as in mathematics. As would be expected, duplicated elements are removed, and the set cannot be indexed. Julia allows you to find the union, intersection, set difference, and many other mathematical relationaships."
   ]
  },
  {
   "cell_type": "code",
   "execution_count": 14,
   "metadata": {
    "collapsed": false
   },
   "outputs": [
    {
     "name": "stdout",
     "output_type": "stream",
     "text": [
      "Set(Any[4,-4,2,3.0,\"b\",1])\n",
      "Set([3,1])\n",
      "Set([4,2])"
     ]
    }
   ],
   "source": [
    "set1 = Set([1,2,3,4,1])\n",
    "set2 = Set([\"b\", 3.0, 1, -4])\n",
    "print(\"$(union(set1, set2))\\n$(intersect(set1, set2))\\n$(setdiff(set1, set2))\")"
   ]
  },
  {
   "cell_type": "markdown",
   "metadata": {},
   "source": [
    "### Control Structures\n",
    "The syntax for each of the following control structures is essentially MatLab syntax, rather than Python, especially in the need for an `end` statement.\n",
    "#### `for` loop"
   ]
  },
  {
   "cell_type": "code",
   "execution_count": 15,
   "metadata": {
    "collapsed": false,
    "scrolled": false
   },
   "outputs": [
    {
     "name": "stdout",
     "output_type": "stream",
     "text": [
      "2.0\n",
      "2.5\n",
      "3.0\n",
      "3.5\n",
      "4.0\n",
      "4.5\n",
      "5.0\n"
     ]
    }
   ],
   "source": [
    "for i in 2:0.5:5\n",
    "    println(i)\n",
    "end"
   ]
  },
  {
   "cell_type": "markdown",
   "metadata": {},
   "source": [
    "While indexing through a string with UTF8 characters does not work well, looping through them with a `for` loop works as expected."
   ]
  },
  {
   "cell_type": "code",
   "execution_count": 16,
   "metadata": {
    "collapsed": false,
    "scrolled": true
   },
   "outputs": [
    {
     "name": "stdout",
     "output_type": "stream",
     "text": [
      "∀  ϵ  >  0  ,  ∃  δ  >  0  "
     ]
    }
   ],
   "source": [
    "myStr = \"∀ϵ>0,∃δ>0\"\n",
    "for i in myStr\n",
    "    print(\"$(i)  \")\n",
    "end"
   ]
  },
  {
   "cell_type": "markdown",
   "metadata": {},
   "source": [
    "#### `while` loop"
   ]
  },
  {
   "cell_type": "code",
   "execution_count": 17,
   "metadata": {
    "collapsed": false,
    "scrolled": true
   },
   "outputs": [
    {
     "name": "stdout",
     "output_type": "stream",
     "text": [
      "0\n",
      "1\n",
      "2\n",
      "3\n",
      "4\n",
      "5\n",
      "6\n",
      "7\n",
      "8\n",
      "9\n"
     ]
    }
   ],
   "source": [
    "n = 0\n",
    "while n < 10\n",
    "    println(n)\n",
    "    n += 1\n",
    "end"
   ]
  },
  {
   "cell_type": "markdown",
   "metadata": {},
   "source": [
    "#### Conditional"
   ]
  },
  {
   "cell_type": "code",
   "execution_count": 18,
   "metadata": {
    "collapsed": false,
    "scrolled": true
   },
   "outputs": [
    {
     "name": "stdout",
     "output_type": "stream",
     "text": [
      "22\n",
      "11.0\n",
      "34.0\n",
      "17.0\n",
      "52.0\n",
      "26.0\n",
      "13.0\n",
      "40.0\n",
      "20.0\n",
      "10.0\n",
      "5.0\n",
      "16.0\n",
      "8.0\n",
      "4.0\n",
      "2.0\n",
      "1.0\n"
     ]
    }
   ],
   "source": [
    "s = 7\n",
    "while s > 1\n",
    "    if s%2 == 1\n",
    "        s = 3*s + 1\n",
    "        println(s)\n",
    "    elseif s%2 == 0\n",
    "        s = s/2\n",
    "        println(s)\n",
    "    else\n",
    "        println(\"Oops, that's not an integer\")\n",
    "        break\n",
    "    end\n",
    "end"
   ]
  },
  {
   "cell_type": "markdown",
   "metadata": {},
   "source": [
    "#### Exception Handling"
   ]
  },
  {
   "cell_type": "code",
   "execution_count": 19,
   "metadata": {
    "collapsed": false
   },
   "outputs": [
    {
     "name": "stdout",
     "output_type": "stream",
     "text": [
      "Caught this: MethodError(getindex,(Set(Any[4,'a',2,1]),1))\n"
     ]
    }
   ],
   "source": [
    "mySet = Set([1, 2, 4, 'a'])\n",
    "try\n",
    "    mySet[1]\n",
    "catch e\n",
    "    println(\"Caught this: $e\")\n",
    "end"
   ]
  },
  {
   "cell_type": "markdown",
   "metadata": {},
   "source": [
    "### Function that outputs the Fibonacci Sequence"
   ]
  },
  {
   "cell_type": "code",
   "execution_count": 20,
   "metadata": {
    "collapsed": false,
    "scrolled": true
   },
   "outputs": [
    {
     "data": {
      "text/plain": [
       "fib (generic function with 1 method)"
      ]
     },
     "execution_count": 20,
     "metadata": {},
     "output_type": "execute_result"
    }
   ],
   "source": [
    "function fib(startFib, n)\n",
    "    if (startFib != 1 && startFib != 0)\n",
    "        return \"Invalid starting values for fibonacci sequence.\"\n",
    "    else  \n",
    "        index = 3\n",
    "        fibList = BigInt[startFib, startFib + 1]\n",
    "        while index < n + 1\n",
    "            push!(fibList, fibList[index-1]+fibList[index-2])\n",
    "            index += 1\n",
    "        end\n",
    "        print(fibList)\n",
    "    end\n",
    "end"
   ]
  },
  {
   "cell_type": "code",
   "execution_count": 21,
   "metadata": {
    "collapsed": false
   },
   "outputs": [
    {
     "name": "stdout",
     "output_type": "stream",
     "text": [
      "BigInt[0,1,1,2,3,5,8,13,21,34,55,89,144,233,377,610,987,1597,2584,4181,6765,10946,17711,28657,46368,75025,121393,196418,317811,514229,832040,1346269,2178309,3524578,5702887,9227465,14930352,24157817,39088169,63245986,102334155,165580141,267914296,433494437,701408733,1134903170,1836311903,2971215073,4807526976,7778742049,12586269025,20365011074,32951280099,53316291173,86267571272,139583862445,225851433717,365435296162,591286729879,956722026041,1548008755920,2504730781961,4052739537881,6557470319842,10610209857723,17167680177565,27777890035288,44945570212853,72723460248141,117669030460994,190392490709135,308061521170129,498454011879264,806515533049393,1304969544928657,2111485077978050,3416454622906707,5527939700884757,8944394323791464,14472334024676221,23416728348467685,37889062373143906,61305790721611591,99194853094755497,160500643816367088,259695496911122585,420196140727489673,679891637638612258,1100087778366101931,1779979416004714189,2880067194370816120,4660046610375530309,7540113804746346429,12200160415121876738,19740274219868223167,31940434634990099905,51680708854858323072,83621143489848422977,135301852344706746049,218922995834555169026]"
     ]
    }
   ],
   "source": [
    "fib(0, 100)"
   ]
  },
  {
   "cell_type": "markdown",
   "metadata": {},
   "source": [
    "### Notable differences and similarities between julia and Python  \n",
    "Along with the differences and similarities mentioned above (such as indexing, string interpolation, syntax, etc.), here are some notable similarities and differences between Julia and Python.\n",
    "1. Similarities  \n",
    "    - No need to instantiate variables with a type\n",
    "    - Syntax is intuitive and nice to read\n",
    "    - Julia has many similarities to numpy in particular (because of common inspiration of MatLab)\n",
    "2. Differences\n",
    "    - **Julia is not object oriented**\n",
    "        - Julia has no classes\n",
    "    - Julia has a multiple dispatch inferential type system\n",
    "        -type of variable and such can be restricted, but are infered otherwise\n",
    "        - more than one function can have the same name\n",
    "            - Julia tries each of the duplicates from most specific type requirement to most general\n",
    "    - Julia has more built-in mathematical functions that do not require importing modules\n",
    "        - julia has global math constants as well\n",
    "    - Julia has JIT compilation\n",
    "\n",
    "\n"
   ]
  }
 ],
 "metadata": {
  "anaconda-cloud": {},
  "kernelspec": {
   "display_name": "Julia 0.5.0",
   "language": "julia",
   "name": "julia-0.5"
  },
  "language_info": {
   "file_extension": ".jl",
   "mimetype": "application/julia",
   "name": "julia",
   "version": "0.5.0"
  }
 },
 "nbformat": 4,
 "nbformat_minor": 1
}
